{
 "cells": [
  {
   "cell_type": "code",
   "execution_count": 49,
   "id": "3728cde9",
   "metadata": {
    "_cell_guid": "b1076dfc-b9ad-4769-8c92-a6c4dae69d19",
    "_uuid": "8f2839f25d086af736a60e9eeb907d3b93b6e0e5",
    "execution": {
     "iopub.execute_input": "2022-02-11T06:21:22.053051Z",
     "iopub.status.busy": "2022-02-11T06:21:22.051175Z",
     "iopub.status.idle": "2022-02-11T06:21:23.096481Z",
     "shell.execute_reply": "2022-02-11T06:21:23.097186Z",
     "shell.execute_reply.started": "2022-02-11T06:11:24.230823Z"
    },
    "papermill": {
     "duration": 1.092058,
     "end_time": "2022-02-11T06:21:23.097613",
     "exception": false,
     "start_time": "2022-02-11T06:21:22.005555",
     "status": "completed"
    },
    "tags": []
   },
   "outputs": [],
   "source": [
    "import pandas as pd\n",
    "import numpy as np\n",
    "import seaborn as sns\n",
    "import matplotlib.pyplot as plt\n",
    "%matplotlib inline\n",
    "\n",
    "sns.set_style(\"darkgrid\")"
   ]
  },
  {
   "cell_type": "code",
   "execution_count": 50,
   "id": "c685e30d",
   "metadata": {
    "execution": {
     "iopub.execute_input": "2022-02-11T06:21:23.182372Z",
     "iopub.status.busy": "2022-02-11T06:21:23.181613Z",
     "iopub.status.idle": "2022-02-11T06:21:23.228075Z",
     "shell.execute_reply": "2022-02-11T06:21:23.228592Z",
     "shell.execute_reply.started": "2022-02-11T06:11:25.197678Z"
    },
    "papermill": {
     "duration": 0.092278,
     "end_time": "2022-02-11T06:21:23.228787",
     "exception": false,
     "start_time": "2022-02-11T06:21:23.136509",
     "status": "completed"
    },
    "tags": []
   },
   "outputs": [],
   "source": [
    "data = pd.read_csv('predictive_maintenance.csv')"
   ]
  },
  {
   "cell_type": "code",
   "execution_count": 51,
   "id": "71aee8a7",
   "metadata": {
    "execution": {
     "iopub.execute_input": "2022-02-11T06:21:23.311487Z",
     "iopub.status.busy": "2022-02-11T06:21:23.310719Z",
     "iopub.status.idle": "2022-02-11T06:21:23.335278Z",
     "shell.execute_reply": "2022-02-11T06:21:23.335945Z",
     "shell.execute_reply.started": "2022-02-11T06:11:25.249224Z"
    },
    "papermill": {
     "duration": 0.069288,
     "end_time": "2022-02-11T06:21:23.336161",
     "exception": false,
     "start_time": "2022-02-11T06:21:23.266873",
     "status": "completed"
    },
    "tags": []
   },
   "outputs": [
    {
     "data": {
      "text/html": [
       "<div>\n",
       "<style scoped>\n",
       "    .dataframe tbody tr th:only-of-type {\n",
       "        vertical-align: middle;\n",
       "    }\n",
       "\n",
       "    .dataframe tbody tr th {\n",
       "        vertical-align: top;\n",
       "    }\n",
       "\n",
       "    .dataframe thead th {\n",
       "        text-align: right;\n",
       "    }\n",
       "</style>\n",
       "<table border=\"1\" class=\"dataframe\">\n",
       "  <thead>\n",
       "    <tr style=\"text-align: right;\">\n",
       "      <th></th>\n",
       "      <th>UDI</th>\n",
       "      <th>Product ID</th>\n",
       "      <th>Type</th>\n",
       "      <th>Air temperature [K]</th>\n",
       "      <th>Process temperature [K]</th>\n",
       "      <th>Rotational speed [rpm]</th>\n",
       "      <th>Torque [Nm]</th>\n",
       "      <th>Tool wear [min]</th>\n",
       "      <th>Target</th>\n",
       "      <th>Failure Type</th>\n",
       "    </tr>\n",
       "  </thead>\n",
       "  <tbody>\n",
       "    <tr>\n",
       "      <th>0</th>\n",
       "      <td>1</td>\n",
       "      <td>M14860</td>\n",
       "      <td>M</td>\n",
       "      <td>298.1</td>\n",
       "      <td>308.6</td>\n",
       "      <td>1551</td>\n",
       "      <td>42.8</td>\n",
       "      <td>0</td>\n",
       "      <td>0</td>\n",
       "      <td>No Failure</td>\n",
       "    </tr>\n",
       "    <tr>\n",
       "      <th>1</th>\n",
       "      <td>2</td>\n",
       "      <td>L47181</td>\n",
       "      <td>L</td>\n",
       "      <td>298.2</td>\n",
       "      <td>308.7</td>\n",
       "      <td>1408</td>\n",
       "      <td>46.3</td>\n",
       "      <td>3</td>\n",
       "      <td>0</td>\n",
       "      <td>No Failure</td>\n",
       "    </tr>\n",
       "    <tr>\n",
       "      <th>2</th>\n",
       "      <td>3</td>\n",
       "      <td>L47182</td>\n",
       "      <td>L</td>\n",
       "      <td>298.1</td>\n",
       "      <td>308.5</td>\n",
       "      <td>1498</td>\n",
       "      <td>49.4</td>\n",
       "      <td>5</td>\n",
       "      <td>0</td>\n",
       "      <td>No Failure</td>\n",
       "    </tr>\n",
       "    <tr>\n",
       "      <th>3</th>\n",
       "      <td>4</td>\n",
       "      <td>L47183</td>\n",
       "      <td>L</td>\n",
       "      <td>298.2</td>\n",
       "      <td>308.6</td>\n",
       "      <td>1433</td>\n",
       "      <td>39.5</td>\n",
       "      <td>7</td>\n",
       "      <td>0</td>\n",
       "      <td>No Failure</td>\n",
       "    </tr>\n",
       "    <tr>\n",
       "      <th>4</th>\n",
       "      <td>5</td>\n",
       "      <td>L47184</td>\n",
       "      <td>L</td>\n",
       "      <td>298.2</td>\n",
       "      <td>308.7</td>\n",
       "      <td>1408</td>\n",
       "      <td>40.0</td>\n",
       "      <td>9</td>\n",
       "      <td>0</td>\n",
       "      <td>No Failure</td>\n",
       "    </tr>\n",
       "  </tbody>\n",
       "</table>\n",
       "</div>"
      ],
      "text/plain": [
       "   UDI Product ID Type  Air temperature [K]  Process temperature [K]  \\\n",
       "0    1     M14860    M                298.1                    308.6   \n",
       "1    2     L47181    L                298.2                    308.7   \n",
       "2    3     L47182    L                298.1                    308.5   \n",
       "3    4     L47183    L                298.2                    308.6   \n",
       "4    5     L47184    L                298.2                    308.7   \n",
       "\n",
       "   Rotational speed [rpm]  Torque [Nm]  Tool wear [min]  Target Failure Type  \n",
       "0                    1551         42.8                0       0   No Failure  \n",
       "1                    1408         46.3                3       0   No Failure  \n",
       "2                    1498         49.4                5       0   No Failure  \n",
       "3                    1433         39.5                7       0   No Failure  \n",
       "4                    1408         40.0                9       0   No Failure  "
      ]
     },
     "execution_count": 51,
     "metadata": {},
     "output_type": "execute_result"
    }
   ],
   "source": [
    "data.head()"
   ]
  },
  {
   "cell_type": "code",
   "execution_count": 52,
   "id": "de37a4c4",
   "metadata": {},
   "outputs": [
    {
     "data": {
      "text/plain": [
       "No Failure                  9652\n",
       "Heat Dissipation Failure     112\n",
       "Power Failure                 95\n",
       "Overstrain Failure            78\n",
       "Tool Wear Failure             45\n",
       "Random Failures               18\n",
       "Name: Failure Type, dtype: int64"
      ]
     },
     "execution_count": 52,
     "metadata": {},
     "output_type": "execute_result"
    }
   ],
   "source": [
    "data[\"Failure Type\"].value_counts()"
   ]
  },
  {
   "cell_type": "code",
   "execution_count": 53,
   "id": "90cd8ba8",
   "metadata": {
    "execution": {
     "iopub.execute_input": "2022-02-11T06:21:23.424508Z",
     "iopub.status.busy": "2022-02-11T06:21:23.423268Z",
     "iopub.status.idle": "2022-02-11T06:21:23.455118Z",
     "shell.execute_reply": "2022-02-11T06:21:23.456532Z",
     "shell.execute_reply.started": "2022-02-11T06:11:25.276903Z"
    },
    "papermill": {
     "duration": 0.078627,
     "end_time": "2022-02-11T06:21:23.456834",
     "exception": false,
     "start_time": "2022-02-11T06:21:23.378207",
     "status": "completed"
    },
    "tags": []
   },
   "outputs": [
    {
     "name": "stdout",
     "output_type": "stream",
     "text": [
      "<class 'pandas.core.frame.DataFrame'>\n",
      "RangeIndex: 10000 entries, 0 to 9999\n",
      "Data columns (total 10 columns):\n",
      " #   Column                   Non-Null Count  Dtype  \n",
      "---  ------                   --------------  -----  \n",
      " 0   UDI                      10000 non-null  int64  \n",
      " 1   Product ID               10000 non-null  object \n",
      " 2   Type                     10000 non-null  object \n",
      " 3   Air temperature [K]      10000 non-null  float64\n",
      " 4   Process temperature [K]  10000 non-null  float64\n",
      " 5   Rotational speed [rpm]   10000 non-null  int64  \n",
      " 6   Torque [Nm]              10000 non-null  float64\n",
      " 7   Tool wear [min]          10000 non-null  int64  \n",
      " 8   Target                   10000 non-null  int64  \n",
      " 9   Failure Type             10000 non-null  object \n",
      "dtypes: float64(3), int64(4), object(3)\n",
      "memory usage: 781.4+ KB\n"
     ]
    }
   ],
   "source": [
    "data.info()"
   ]
  },
  {
   "cell_type": "code",
   "execution_count": 54,
   "id": "38e4748e",
   "metadata": {
    "execution": {
     "iopub.execute_input": "2022-02-11T06:21:23.728580Z",
     "iopub.status.busy": "2022-02-11T06:21:23.727695Z",
     "iopub.status.idle": "2022-02-11T06:21:23.732263Z",
     "shell.execute_reply": "2022-02-11T06:21:23.731362Z",
     "shell.execute_reply.started": "2022-02-11T06:11:25.305384Z"
    },
    "papermill": {
     "duration": 0.064342,
     "end_time": "2022-02-11T06:21:23.732559",
     "exception": false,
     "start_time": "2022-02-11T06:21:23.668217",
     "status": "completed"
    },
    "tags": []
   },
   "outputs": [
    {
     "data": {
      "text/html": [
       "<div>\n",
       "<style scoped>\n",
       "    .dataframe tbody tr th:only-of-type {\n",
       "        vertical-align: middle;\n",
       "    }\n",
       "\n",
       "    .dataframe tbody tr th {\n",
       "        vertical-align: top;\n",
       "    }\n",
       "\n",
       "    .dataframe thead th {\n",
       "        text-align: right;\n",
       "    }\n",
       "</style>\n",
       "<table border=\"1\" class=\"dataframe\">\n",
       "  <thead>\n",
       "    <tr style=\"text-align: right;\">\n",
       "      <th></th>\n",
       "      <th>Type</th>\n",
       "      <th>Air temperature [K]</th>\n",
       "      <th>Process temperature [K]</th>\n",
       "      <th>Rotational speed [rpm]</th>\n",
       "      <th>Torque [Nm]</th>\n",
       "      <th>Tool wear [min]</th>\n",
       "      <th>Target</th>\n",
       "      <th>Failure Type</th>\n",
       "    </tr>\n",
       "  </thead>\n",
       "  <tbody>\n",
       "    <tr>\n",
       "      <th>0</th>\n",
       "      <td>M</td>\n",
       "      <td>298.1</td>\n",
       "      <td>308.6</td>\n",
       "      <td>1551</td>\n",
       "      <td>42.8</td>\n",
       "      <td>0</td>\n",
       "      <td>0</td>\n",
       "      <td>No Failure</td>\n",
       "    </tr>\n",
       "    <tr>\n",
       "      <th>1</th>\n",
       "      <td>L</td>\n",
       "      <td>298.2</td>\n",
       "      <td>308.7</td>\n",
       "      <td>1408</td>\n",
       "      <td>46.3</td>\n",
       "      <td>3</td>\n",
       "      <td>0</td>\n",
       "      <td>No Failure</td>\n",
       "    </tr>\n",
       "    <tr>\n",
       "      <th>2</th>\n",
       "      <td>L</td>\n",
       "      <td>298.1</td>\n",
       "      <td>308.5</td>\n",
       "      <td>1498</td>\n",
       "      <td>49.4</td>\n",
       "      <td>5</td>\n",
       "      <td>0</td>\n",
       "      <td>No Failure</td>\n",
       "    </tr>\n",
       "  </tbody>\n",
       "</table>\n",
       "</div>"
      ],
      "text/plain": [
       "  Type  Air temperature [K]  Process temperature [K]  Rotational speed [rpm]  \\\n",
       "0    M                298.1                    308.6                    1551   \n",
       "1    L                298.2                    308.7                    1408   \n",
       "2    L                298.1                    308.5                    1498   \n",
       "\n",
       "   Torque [Nm]  Tool wear [min]  Target Failure Type  \n",
       "0         42.8                0       0   No Failure  \n",
       "1         46.3                3       0   No Failure  \n",
       "2         49.4                5       0   No Failure  "
      ]
     },
     "execution_count": 54,
     "metadata": {},
     "output_type": "execute_result"
    }
   ],
   "source": [
    "data = data.drop([\"UDI\",'Product ID'],axis=1)\n",
    "data.head(3)"
   ]
  },
  {
   "cell_type": "code",
   "execution_count": 55,
   "id": "e8f56982",
   "metadata": {},
   "outputs": [
    {
     "data": {
      "text/html": [
       "<div>\n",
       "<style scoped>\n",
       "    .dataframe tbody tr th:only-of-type {\n",
       "        vertical-align: middle;\n",
       "    }\n",
       "\n",
       "    .dataframe tbody tr th {\n",
       "        vertical-align: top;\n",
       "    }\n",
       "\n",
       "    .dataframe thead th {\n",
       "        text-align: right;\n",
       "    }\n",
       "</style>\n",
       "<table border=\"1\" class=\"dataframe\">\n",
       "  <thead>\n",
       "    <tr style=\"text-align: right;\">\n",
       "      <th></th>\n",
       "      <th></th>\n",
       "      <th>Type</th>\n",
       "      <th>Air temperature [K]</th>\n",
       "      <th>Process temperature [K]</th>\n",
       "      <th>Rotational speed [rpm]</th>\n",
       "      <th>Torque [Nm]</th>\n",
       "      <th>Tool wear [min]</th>\n",
       "    </tr>\n",
       "    <tr>\n",
       "      <th>Target</th>\n",
       "      <th>Failure Type</th>\n",
       "      <th></th>\n",
       "      <th></th>\n",
       "      <th></th>\n",
       "      <th></th>\n",
       "      <th></th>\n",
       "      <th></th>\n",
       "    </tr>\n",
       "  </thead>\n",
       "  <tbody>\n",
       "    <tr>\n",
       "      <th rowspan=\"2\" valign=\"top\">0</th>\n",
       "      <th>No Failure</th>\n",
       "      <td>9643</td>\n",
       "      <td>9643</td>\n",
       "      <td>9643</td>\n",
       "      <td>9643</td>\n",
       "      <td>9643</td>\n",
       "      <td>9643</td>\n",
       "    </tr>\n",
       "    <tr>\n",
       "      <th>Random Failures</th>\n",
       "      <td>18</td>\n",
       "      <td>18</td>\n",
       "      <td>18</td>\n",
       "      <td>18</td>\n",
       "      <td>18</td>\n",
       "      <td>18</td>\n",
       "    </tr>\n",
       "    <tr>\n",
       "      <th rowspan=\"5\" valign=\"top\">1</th>\n",
       "      <th>Heat Dissipation Failure</th>\n",
       "      <td>112</td>\n",
       "      <td>112</td>\n",
       "      <td>112</td>\n",
       "      <td>112</td>\n",
       "      <td>112</td>\n",
       "      <td>112</td>\n",
       "    </tr>\n",
       "    <tr>\n",
       "      <th>No Failure</th>\n",
       "      <td>9</td>\n",
       "      <td>9</td>\n",
       "      <td>9</td>\n",
       "      <td>9</td>\n",
       "      <td>9</td>\n",
       "      <td>9</td>\n",
       "    </tr>\n",
       "    <tr>\n",
       "      <th>Overstrain Failure</th>\n",
       "      <td>78</td>\n",
       "      <td>78</td>\n",
       "      <td>78</td>\n",
       "      <td>78</td>\n",
       "      <td>78</td>\n",
       "      <td>78</td>\n",
       "    </tr>\n",
       "    <tr>\n",
       "      <th>Power Failure</th>\n",
       "      <td>95</td>\n",
       "      <td>95</td>\n",
       "      <td>95</td>\n",
       "      <td>95</td>\n",
       "      <td>95</td>\n",
       "      <td>95</td>\n",
       "    </tr>\n",
       "    <tr>\n",
       "      <th>Tool Wear Failure</th>\n",
       "      <td>45</td>\n",
       "      <td>45</td>\n",
       "      <td>45</td>\n",
       "      <td>45</td>\n",
       "      <td>45</td>\n",
       "      <td>45</td>\n",
       "    </tr>\n",
       "  </tbody>\n",
       "</table>\n",
       "</div>"
      ],
      "text/plain": [
       "                                 Type  Air temperature [K]  \\\n",
       "Target Failure Type                                          \n",
       "0      No Failure                9643                 9643   \n",
       "       Random Failures             18                   18   \n",
       "1      Heat Dissipation Failure   112                  112   \n",
       "       No Failure                   9                    9   \n",
       "       Overstrain Failure          78                   78   \n",
       "       Power Failure               95                   95   \n",
       "       Tool Wear Failure           45                   45   \n",
       "\n",
       "                                 Process temperature [K]  \\\n",
       "Target Failure Type                                        \n",
       "0      No Failure                                   9643   \n",
       "       Random Failures                                18   \n",
       "1      Heat Dissipation Failure                      112   \n",
       "       No Failure                                      9   \n",
       "       Overstrain Failure                             78   \n",
       "       Power Failure                                  95   \n",
       "       Tool Wear Failure                              45   \n",
       "\n",
       "                                 Rotational speed [rpm]  Torque [Nm]  \\\n",
       "Target Failure Type                                                    \n",
       "0      No Failure                                  9643         9643   \n",
       "       Random Failures                               18           18   \n",
       "1      Heat Dissipation Failure                     112          112   \n",
       "       No Failure                                     9            9   \n",
       "       Overstrain Failure                            78           78   \n",
       "       Power Failure                                 95           95   \n",
       "       Tool Wear Failure                             45           45   \n",
       "\n",
       "                                 Tool wear [min]  \n",
       "Target Failure Type                               \n",
       "0      No Failure                           9643  \n",
       "       Random Failures                        18  \n",
       "1      Heat Dissipation Failure              112  \n",
       "       No Failure                              9  \n",
       "       Overstrain Failure                     78  \n",
       "       Power Failure                          95  \n",
       "       Tool Wear Failure                      45  "
      ]
     },
     "execution_count": 55,
     "metadata": {},
     "output_type": "execute_result"
    }
   ],
   "source": [
    "data.groupby(['Target','Failure Type']).count()"
   ]
  },
  {
   "cell_type": "code",
   "execution_count": 56,
   "id": "4dbdbbe1",
   "metadata": {
    "execution": {
     "iopub.execute_input": "2022-02-11T06:21:23.992789Z",
     "iopub.status.busy": "2022-02-11T06:21:23.991621Z",
     "iopub.status.idle": "2022-02-11T06:21:24.013732Z",
     "shell.execute_reply": "2022-02-11T06:21:24.014302Z",
     "shell.execute_reply.started": "2022-02-11T06:11:25.325345Z"
    },
    "papermill": {
     "duration": 0.06958,
     "end_time": "2022-02-11T06:21:24.014511",
     "exception": false,
     "start_time": "2022-02-11T06:21:23.944931",
     "status": "completed"
    },
    "tags": []
   },
   "outputs": [
    {
     "data": {
      "text/html": [
       "<div>\n",
       "<style scoped>\n",
       "    .dataframe tbody tr th:only-of-type {\n",
       "        vertical-align: middle;\n",
       "    }\n",
       "\n",
       "    .dataframe tbody tr th {\n",
       "        vertical-align: top;\n",
       "    }\n",
       "\n",
       "    .dataframe thead th {\n",
       "        text-align: right;\n",
       "    }\n",
       "</style>\n",
       "<table border=\"1\" class=\"dataframe\">\n",
       "  <thead>\n",
       "    <tr style=\"text-align: right;\">\n",
       "      <th></th>\n",
       "      <th></th>\n",
       "      <th>count</th>\n",
       "    </tr>\n",
       "    <tr>\n",
       "      <th>Target</th>\n",
       "      <th>Failure Type</th>\n",
       "      <th></th>\n",
       "    </tr>\n",
       "  </thead>\n",
       "  <tbody>\n",
       "    <tr>\n",
       "      <th rowspan=\"2\" valign=\"top\">0</th>\n",
       "      <th>No Failure</th>\n",
       "      <td>9643</td>\n",
       "    </tr>\n",
       "    <tr>\n",
       "      <th>Random Failures</th>\n",
       "      <td>18</td>\n",
       "    </tr>\n",
       "    <tr>\n",
       "      <th rowspan=\"5\" valign=\"top\">1</th>\n",
       "      <th>Heat Dissipation Failure</th>\n",
       "      <td>112</td>\n",
       "    </tr>\n",
       "    <tr>\n",
       "      <th>No Failure</th>\n",
       "      <td>9</td>\n",
       "    </tr>\n",
       "    <tr>\n",
       "      <th>Overstrain Failure</th>\n",
       "      <td>78</td>\n",
       "    </tr>\n",
       "    <tr>\n",
       "      <th>Power Failure</th>\n",
       "      <td>95</td>\n",
       "    </tr>\n",
       "    <tr>\n",
       "      <th>Tool Wear Failure</th>\n",
       "      <td>45</td>\n",
       "    </tr>\n",
       "  </tbody>\n",
       "</table>\n",
       "</div>"
      ],
      "text/plain": [
       "                                 count\n",
       "Target Failure Type                   \n",
       "0      No Failure                 9643\n",
       "       Random Failures              18\n",
       "1      Heat Dissipation Failure    112\n",
       "       No Failure                    9\n",
       "       Overstrain Failure           78\n",
       "       Power Failure                95\n",
       "       Tool Wear Failure            45"
      ]
     },
     "execution_count": 56,
     "metadata": {},
     "output_type": "execute_result"
    }
   ],
   "source": [
    "data.groupby(['Target','Failure Type']).count().drop(['Process temperature [K]',\n",
    "                                                      'Rotational speed [rpm]',\n",
    "                                                     'Torque [Nm]',\n",
    "                                                     'Tool wear [min]',\n",
    "                                                      'Air temperature [K]'],axis=1).rename(columns = {'Type':'count'})"
   ]
  },
  {
   "cell_type": "code",
   "execution_count": 57,
   "id": "e59cbac1",
   "metadata": {},
   "outputs": [
    {
     "data": {
      "text/html": [
       "<div>\n",
       "<style scoped>\n",
       "    .dataframe tbody tr th:only-of-type {\n",
       "        vertical-align: middle;\n",
       "    }\n",
       "\n",
       "    .dataframe tbody tr th {\n",
       "        vertical-align: top;\n",
       "    }\n",
       "\n",
       "    .dataframe thead th {\n",
       "        text-align: right;\n",
       "    }\n",
       "</style>\n",
       "<table border=\"1\" class=\"dataframe\">\n",
       "  <thead>\n",
       "    <tr style=\"text-align: right;\">\n",
       "      <th></th>\n",
       "      <th>Air temperature [K]</th>\n",
       "      <th>Process temperature [K]</th>\n",
       "      <th>Rotational speed [rpm]</th>\n",
       "      <th>Torque [Nm]</th>\n",
       "      <th>Tool wear [min]</th>\n",
       "      <th>Target</th>\n",
       "    </tr>\n",
       "  </thead>\n",
       "  <tbody>\n",
       "    <tr>\n",
       "      <th>count</th>\n",
       "      <td>10000.000000</td>\n",
       "      <td>10000.000000</td>\n",
       "      <td>10000.000000</td>\n",
       "      <td>10000.000000</td>\n",
       "      <td>10000.000000</td>\n",
       "      <td>10000.000000</td>\n",
       "    </tr>\n",
       "    <tr>\n",
       "      <th>mean</th>\n",
       "      <td>300.004930</td>\n",
       "      <td>310.005560</td>\n",
       "      <td>1538.776100</td>\n",
       "      <td>39.986910</td>\n",
       "      <td>107.951000</td>\n",
       "      <td>0.033900</td>\n",
       "    </tr>\n",
       "    <tr>\n",
       "      <th>std</th>\n",
       "      <td>2.000259</td>\n",
       "      <td>1.483734</td>\n",
       "      <td>179.284096</td>\n",
       "      <td>9.968934</td>\n",
       "      <td>63.654147</td>\n",
       "      <td>0.180981</td>\n",
       "    </tr>\n",
       "    <tr>\n",
       "      <th>min</th>\n",
       "      <td>295.300000</td>\n",
       "      <td>305.700000</td>\n",
       "      <td>1168.000000</td>\n",
       "      <td>3.800000</td>\n",
       "      <td>0.000000</td>\n",
       "      <td>0.000000</td>\n",
       "    </tr>\n",
       "    <tr>\n",
       "      <th>25%</th>\n",
       "      <td>298.300000</td>\n",
       "      <td>308.800000</td>\n",
       "      <td>1423.000000</td>\n",
       "      <td>33.200000</td>\n",
       "      <td>53.000000</td>\n",
       "      <td>0.000000</td>\n",
       "    </tr>\n",
       "    <tr>\n",
       "      <th>50%</th>\n",
       "      <td>300.100000</td>\n",
       "      <td>310.100000</td>\n",
       "      <td>1503.000000</td>\n",
       "      <td>40.100000</td>\n",
       "      <td>108.000000</td>\n",
       "      <td>0.000000</td>\n",
       "    </tr>\n",
       "    <tr>\n",
       "      <th>75%</th>\n",
       "      <td>301.500000</td>\n",
       "      <td>311.100000</td>\n",
       "      <td>1612.000000</td>\n",
       "      <td>46.800000</td>\n",
       "      <td>162.000000</td>\n",
       "      <td>0.000000</td>\n",
       "    </tr>\n",
       "    <tr>\n",
       "      <th>max</th>\n",
       "      <td>304.500000</td>\n",
       "      <td>313.800000</td>\n",
       "      <td>2886.000000</td>\n",
       "      <td>76.600000</td>\n",
       "      <td>253.000000</td>\n",
       "      <td>1.000000</td>\n",
       "    </tr>\n",
       "  </tbody>\n",
       "</table>\n",
       "</div>"
      ],
      "text/plain": [
       "       Air temperature [K]  Process temperature [K]  Rotational speed [rpm]  \\\n",
       "count         10000.000000             10000.000000            10000.000000   \n",
       "mean            300.004930               310.005560             1538.776100   \n",
       "std               2.000259                 1.483734              179.284096   \n",
       "min             295.300000               305.700000             1168.000000   \n",
       "25%             298.300000               308.800000             1423.000000   \n",
       "50%             300.100000               310.100000             1503.000000   \n",
       "75%             301.500000               311.100000             1612.000000   \n",
       "max             304.500000               313.800000             2886.000000   \n",
       "\n",
       "        Torque [Nm]  Tool wear [min]        Target  \n",
       "count  10000.000000     10000.000000  10000.000000  \n",
       "mean      39.986910       107.951000      0.033900  \n",
       "std        9.968934        63.654147      0.180981  \n",
       "min        3.800000         0.000000      0.000000  \n",
       "25%       33.200000        53.000000      0.000000  \n",
       "50%       40.100000       108.000000      0.000000  \n",
       "75%       46.800000       162.000000      0.000000  \n",
       "max       76.600000       253.000000      1.000000  "
      ]
     },
     "execution_count": 57,
     "metadata": {},
     "output_type": "execute_result"
    }
   ],
   "source": [
    "data.describe()"
   ]
  },
  {
   "cell_type": "code",
   "execution_count": 58,
   "id": "6c3c30ac",
   "metadata": {
    "execution": {
     "iopub.execute_input": "2022-02-11T06:21:24.104059Z",
     "iopub.status.busy": "2022-02-11T06:21:24.102850Z",
     "iopub.status.idle": "2022-02-11T06:21:24.130527Z",
     "shell.execute_reply": "2022-02-11T06:21:24.131245Z",
     "shell.execute_reply.started": "2022-02-11T06:11:25.350229Z"
    },
    "papermill": {
     "duration": 0.074709,
     "end_time": "2022-02-11T06:21:24.131485",
     "exception": false,
     "start_time": "2022-02-11T06:21:24.056776",
     "status": "completed"
    },
    "tags": []
   },
   "outputs": [
    {
     "name": "stderr",
     "output_type": "stream",
     "text": [
      "C:\\Users\\lenin\\AppData\\Local\\Temp\\ipykernel_6564\\3968510811.py:1: FutureWarning: The default value of numeric_only in DataFrameGroupBy.median is deprecated. In a future version, numeric_only will default to False. Either specify numeric_only or select only columns which should be valid for the function.\n",
      "  data.groupby(['Target','Failure Type']).median()\n"
     ]
    },
    {
     "data": {
      "text/html": [
       "<div>\n",
       "<style scoped>\n",
       "    .dataframe tbody tr th:only-of-type {\n",
       "        vertical-align: middle;\n",
       "    }\n",
       "\n",
       "    .dataframe tbody tr th {\n",
       "        vertical-align: top;\n",
       "    }\n",
       "\n",
       "    .dataframe thead th {\n",
       "        text-align: right;\n",
       "    }\n",
       "</style>\n",
       "<table border=\"1\" class=\"dataframe\">\n",
       "  <thead>\n",
       "    <tr style=\"text-align: right;\">\n",
       "      <th></th>\n",
       "      <th></th>\n",
       "      <th>Air temperature [K]</th>\n",
       "      <th>Process temperature [K]</th>\n",
       "      <th>Rotational speed [rpm]</th>\n",
       "      <th>Torque [Nm]</th>\n",
       "      <th>Tool wear [min]</th>\n",
       "    </tr>\n",
       "    <tr>\n",
       "      <th>Target</th>\n",
       "      <th>Failure Type</th>\n",
       "      <th></th>\n",
       "      <th></th>\n",
       "      <th></th>\n",
       "      <th></th>\n",
       "      <th></th>\n",
       "    </tr>\n",
       "  </thead>\n",
       "  <tbody>\n",
       "    <tr>\n",
       "      <th rowspan=\"2\" valign=\"top\">0</th>\n",
       "      <th>No Failure</th>\n",
       "      <td>300.00</td>\n",
       "      <td>310.0</td>\n",
       "      <td>1507.0</td>\n",
       "      <td>39.80</td>\n",
       "      <td>107.0</td>\n",
       "    </tr>\n",
       "    <tr>\n",
       "      <th>Random Failures</th>\n",
       "      <td>300.75</td>\n",
       "      <td>311.1</td>\n",
       "      <td>1490.0</td>\n",
       "      <td>44.60</td>\n",
       "      <td>142.0</td>\n",
       "    </tr>\n",
       "    <tr>\n",
       "      <th rowspan=\"5\" valign=\"top\">1</th>\n",
       "      <th>Heat Dissipation Failure</th>\n",
       "      <td>302.45</td>\n",
       "      <td>310.7</td>\n",
       "      <td>1346.0</td>\n",
       "      <td>52.35</td>\n",
       "      <td>106.0</td>\n",
       "    </tr>\n",
       "    <tr>\n",
       "      <th>No Failure</th>\n",
       "      <td>300.50</td>\n",
       "      <td>309.9</td>\n",
       "      <td>1438.0</td>\n",
       "      <td>45.20</td>\n",
       "      <td>119.0</td>\n",
       "    </tr>\n",
       "    <tr>\n",
       "      <th>Overstrain Failure</th>\n",
       "      <td>299.45</td>\n",
       "      <td>310.1</td>\n",
       "      <td>1362.5</td>\n",
       "      <td>56.75</td>\n",
       "      <td>207.0</td>\n",
       "    </tr>\n",
       "    <tr>\n",
       "      <th>Power Failure</th>\n",
       "      <td>300.40</td>\n",
       "      <td>310.2</td>\n",
       "      <td>1386.0</td>\n",
       "      <td>63.60</td>\n",
       "      <td>100.0</td>\n",
       "    </tr>\n",
       "    <tr>\n",
       "      <th>Tool Wear Failure</th>\n",
       "      <td>300.40</td>\n",
       "      <td>310.3</td>\n",
       "      <td>1521.0</td>\n",
       "      <td>37.70</td>\n",
       "      <td>215.0</td>\n",
       "    </tr>\n",
       "  </tbody>\n",
       "</table>\n",
       "</div>"
      ],
      "text/plain": [
       "                                 Air temperature [K]  Process temperature [K]  \\\n",
       "Target Failure Type                                                             \n",
       "0      No Failure                             300.00                    310.0   \n",
       "       Random Failures                        300.75                    311.1   \n",
       "1      Heat Dissipation Failure               302.45                    310.7   \n",
       "       No Failure                             300.50                    309.9   \n",
       "       Overstrain Failure                     299.45                    310.1   \n",
       "       Power Failure                          300.40                    310.2   \n",
       "       Tool Wear Failure                      300.40                    310.3   \n",
       "\n",
       "                                 Rotational speed [rpm]  Torque [Nm]  \\\n",
       "Target Failure Type                                                    \n",
       "0      No Failure                                1507.0        39.80   \n",
       "       Random Failures                           1490.0        44.60   \n",
       "1      Heat Dissipation Failure                  1346.0        52.35   \n",
       "       No Failure                                1438.0        45.20   \n",
       "       Overstrain Failure                        1362.5        56.75   \n",
       "       Power Failure                             1386.0        63.60   \n",
       "       Tool Wear Failure                         1521.0        37.70   \n",
       "\n",
       "                                 Tool wear [min]  \n",
       "Target Failure Type                               \n",
       "0      No Failure                          107.0  \n",
       "       Random Failures                     142.0  \n",
       "1      Heat Dissipation Failure            106.0  \n",
       "       No Failure                          119.0  \n",
       "       Overstrain Failure                  207.0  \n",
       "       Power Failure                       100.0  \n",
       "       Tool Wear Failure                   215.0  "
      ]
     },
     "execution_count": 58,
     "metadata": {},
     "output_type": "execute_result"
    }
   ],
   "source": [
    "data.groupby(['Target','Failure Type']).median()"
   ]
  },
  {
   "cell_type": "code",
   "execution_count": 59,
   "id": "c5711b6a",
   "metadata": {
    "execution": {
     "iopub.execute_input": "2022-02-11T06:21:24.227561Z",
     "iopub.status.busy": "2022-02-11T06:21:24.226438Z",
     "iopub.status.idle": "2022-02-11T06:21:24.246217Z",
     "shell.execute_reply": "2022-02-11T06:21:24.246784Z",
     "shell.execute_reply.started": "2022-02-11T06:11:25.377053Z"
    },
    "papermill": {
     "duration": 0.070859,
     "end_time": "2022-02-11T06:21:24.247016",
     "exception": false,
     "start_time": "2022-02-11T06:21:24.176157",
     "status": "completed"
    },
    "tags": []
   },
   "outputs": [
    {
     "name": "stderr",
     "output_type": "stream",
     "text": [
      "C:\\Users\\lenin\\AppData\\Local\\Temp\\ipykernel_6564\\331131897.py:1: FutureWarning: The default value of numeric_only in DataFrameGroupBy.median is deprecated. In a future version, numeric_only will default to False. Either specify numeric_only or select only columns which should be valid for the function.\n",
      "  data.groupby(['Type','Target']).median()\n"
     ]
    },
    {
     "data": {
      "text/html": [
       "<div>\n",
       "<style scoped>\n",
       "    .dataframe tbody tr th:only-of-type {\n",
       "        vertical-align: middle;\n",
       "    }\n",
       "\n",
       "    .dataframe tbody tr th {\n",
       "        vertical-align: top;\n",
       "    }\n",
       "\n",
       "    .dataframe thead th {\n",
       "        text-align: right;\n",
       "    }\n",
       "</style>\n",
       "<table border=\"1\" class=\"dataframe\">\n",
       "  <thead>\n",
       "    <tr style=\"text-align: right;\">\n",
       "      <th></th>\n",
       "      <th></th>\n",
       "      <th>Air temperature [K]</th>\n",
       "      <th>Process temperature [K]</th>\n",
       "      <th>Rotational speed [rpm]</th>\n",
       "      <th>Torque [Nm]</th>\n",
       "      <th>Tool wear [min]</th>\n",
       "    </tr>\n",
       "    <tr>\n",
       "      <th>Type</th>\n",
       "      <th>Target</th>\n",
       "      <th></th>\n",
       "      <th></th>\n",
       "      <th></th>\n",
       "      <th></th>\n",
       "      <th></th>\n",
       "    </tr>\n",
       "  </thead>\n",
       "  <tbody>\n",
       "    <tr>\n",
       "      <th rowspan=\"2\" valign=\"top\">H</th>\n",
       "      <th>0</th>\n",
       "      <td>299.7</td>\n",
       "      <td>309.9</td>\n",
       "      <td>1502.0</td>\n",
       "      <td>40.2</td>\n",
       "      <td>106.0</td>\n",
       "    </tr>\n",
       "    <tr>\n",
       "      <th>1</th>\n",
       "      <td>302.0</td>\n",
       "      <td>310.2</td>\n",
       "      <td>1371.0</td>\n",
       "      <td>53.8</td>\n",
       "      <td>147.0</td>\n",
       "    </tr>\n",
       "    <tr>\n",
       "      <th rowspan=\"2\" valign=\"top\">L</th>\n",
       "      <th>0</th>\n",
       "      <td>300.1</td>\n",
       "      <td>310.1</td>\n",
       "      <td>1508.0</td>\n",
       "      <td>39.7</td>\n",
       "      <td>107.0</td>\n",
       "    </tr>\n",
       "    <tr>\n",
       "      <th>1</th>\n",
       "      <td>301.2</td>\n",
       "      <td>310.4</td>\n",
       "      <td>1362.0</td>\n",
       "      <td>53.9</td>\n",
       "      <td>182.0</td>\n",
       "    </tr>\n",
       "    <tr>\n",
       "      <th rowspan=\"2\" valign=\"top\">M</th>\n",
       "      <th>0</th>\n",
       "      <td>300.1</td>\n",
       "      <td>310.0</td>\n",
       "      <td>1506.0</td>\n",
       "      <td>40.0</td>\n",
       "      <td>105.0</td>\n",
       "    </tr>\n",
       "    <tr>\n",
       "      <th>1</th>\n",
       "      <td>302.0</td>\n",
       "      <td>310.6</td>\n",
       "      <td>1372.0</td>\n",
       "      <td>51.6</td>\n",
       "      <td>125.0</td>\n",
       "    </tr>\n",
       "  </tbody>\n",
       "</table>\n",
       "</div>"
      ],
      "text/plain": [
       "             Air temperature [K]  Process temperature [K]  \\\n",
       "Type Target                                                 \n",
       "H    0                     299.7                    309.9   \n",
       "     1                     302.0                    310.2   \n",
       "L    0                     300.1                    310.1   \n",
       "     1                     301.2                    310.4   \n",
       "M    0                     300.1                    310.0   \n",
       "     1                     302.0                    310.6   \n",
       "\n",
       "             Rotational speed [rpm]  Torque [Nm]  Tool wear [min]  \n",
       "Type Target                                                        \n",
       "H    0                       1502.0         40.2            106.0  \n",
       "     1                       1371.0         53.8            147.0  \n",
       "L    0                       1508.0         39.7            107.0  \n",
       "     1                       1362.0         53.9            182.0  \n",
       "M    0                       1506.0         40.0            105.0  \n",
       "     1                       1372.0         51.6            125.0  "
      ]
     },
     "execution_count": 59,
     "metadata": {},
     "output_type": "execute_result"
    }
   ],
   "source": [
    "data.groupby(['Type','Target']).median()"
   ]
  },
  {
   "cell_type": "code",
   "execution_count": 60,
   "id": "2b8f982b",
   "metadata": {
    "execution": {
     "iopub.execute_input": "2022-02-11T06:21:48.327835Z",
     "iopub.status.busy": "2022-02-11T06:21:48.327160Z",
     "iopub.status.idle": "2022-02-11T06:21:48.330277Z",
     "shell.execute_reply": "2022-02-11T06:21:48.330820Z",
     "shell.execute_reply.started": "2022-02-11T06:11:48.520039Z"
    },
    "papermill": {
     "duration": 0.078054,
     "end_time": "2022-02-11T06:21:48.331045",
     "exception": false,
     "start_time": "2022-02-11T06:21:48.252991",
     "status": "completed"
    },
    "tags": []
   },
   "outputs": [
    {
     "data": {
      "text/plain": [
       "Index(['Type', 'Air temperature [K]', 'Process temperature [K]',\n",
       "       'Rotational speed [rpm]', 'Torque [Nm]', 'Tool wear [min]', 'Target',\n",
       "       'Failure Type'],\n",
       "      dtype='object')"
      ]
     },
     "execution_count": 60,
     "metadata": {},
     "output_type": "execute_result"
    }
   ],
   "source": [
    "data.columns"
   ]
  },
  {
   "cell_type": "code",
   "execution_count": 61,
   "id": "08d808c6",
   "metadata": {
    "execution": {
     "iopub.execute_input": "2022-02-11T06:22:07.766941Z",
     "iopub.status.busy": "2022-02-11T06:22:07.765115Z",
     "iopub.status.idle": "2022-02-11T06:22:07.914144Z",
     "shell.execute_reply": "2022-02-11T06:22:07.913211Z",
     "shell.execute_reply.started": "2022-02-11T06:12:25.092664Z"
    },
    "papermill": {
     "duration": 0.247296,
     "end_time": "2022-02-11T06:22:07.914327",
     "exception": false,
     "start_time": "2022-02-11T06:22:07.667031",
     "status": "completed"
    },
    "tags": []
   },
   "outputs": [],
   "source": [
    "from sklearn.preprocessing import LabelEncoder\n",
    "label_encoder = LabelEncoder()\n",
    "\n",
    "label_encoder.fit(data['Type'])\n",
    "data['Type'] = label_encoder.transform(data['Type'])\n",
    "\n",
    "label_encoder.fit(data['Target'])\n",
    "data['Target'] = label_encoder.transform(data['Target'])"
   ]
  },
  {
   "cell_type": "code",
   "execution_count": 62,
   "id": "4ee81e0a",
   "metadata": {
    "execution": {
     "iopub.execute_input": "2022-02-11T06:22:08.127364Z",
     "iopub.status.busy": "2022-02-11T06:22:08.125988Z",
     "iopub.status.idle": "2022-02-11T06:22:08.130868Z",
     "shell.execute_reply": "2022-02-11T06:22:08.131520Z",
     "shell.execute_reply.started": "2022-02-11T06:12:26.967118Z"
    },
    "papermill": {
     "duration": 0.120334,
     "end_time": "2022-02-11T06:22:08.131959",
     "exception": false,
     "start_time": "2022-02-11T06:22:08.011625",
     "status": "completed"
    },
    "tags": []
   },
   "outputs": [
    {
     "data": {
      "text/html": [
       "<div>\n",
       "<style scoped>\n",
       "    .dataframe tbody tr th:only-of-type {\n",
       "        vertical-align: middle;\n",
       "    }\n",
       "\n",
       "    .dataframe tbody tr th {\n",
       "        vertical-align: top;\n",
       "    }\n",
       "\n",
       "    .dataframe thead th {\n",
       "        text-align: right;\n",
       "    }\n",
       "</style>\n",
       "<table border=\"1\" class=\"dataframe\">\n",
       "  <thead>\n",
       "    <tr style=\"text-align: right;\">\n",
       "      <th></th>\n",
       "      <th>Type</th>\n",
       "      <th>Air temperature [K]</th>\n",
       "      <th>Process temperature [K]</th>\n",
       "      <th>Rotational speed [rpm]</th>\n",
       "      <th>Torque [Nm]</th>\n",
       "      <th>Tool wear [min]</th>\n",
       "      <th>Target</th>\n",
       "      <th>Failure Type</th>\n",
       "    </tr>\n",
       "  </thead>\n",
       "  <tbody>\n",
       "    <tr>\n",
       "      <th>9995</th>\n",
       "      <td>2</td>\n",
       "      <td>298.8</td>\n",
       "      <td>308.4</td>\n",
       "      <td>1604</td>\n",
       "      <td>29.5</td>\n",
       "      <td>14</td>\n",
       "      <td>0</td>\n",
       "      <td>No Failure</td>\n",
       "    </tr>\n",
       "    <tr>\n",
       "      <th>9996</th>\n",
       "      <td>0</td>\n",
       "      <td>298.9</td>\n",
       "      <td>308.4</td>\n",
       "      <td>1632</td>\n",
       "      <td>31.8</td>\n",
       "      <td>17</td>\n",
       "      <td>0</td>\n",
       "      <td>No Failure</td>\n",
       "    </tr>\n",
       "    <tr>\n",
       "      <th>9997</th>\n",
       "      <td>2</td>\n",
       "      <td>299.0</td>\n",
       "      <td>308.6</td>\n",
       "      <td>1645</td>\n",
       "      <td>33.4</td>\n",
       "      <td>22</td>\n",
       "      <td>0</td>\n",
       "      <td>No Failure</td>\n",
       "    </tr>\n",
       "    <tr>\n",
       "      <th>9998</th>\n",
       "      <td>0</td>\n",
       "      <td>299.0</td>\n",
       "      <td>308.7</td>\n",
       "      <td>1408</td>\n",
       "      <td>48.5</td>\n",
       "      <td>25</td>\n",
       "      <td>0</td>\n",
       "      <td>No Failure</td>\n",
       "    </tr>\n",
       "    <tr>\n",
       "      <th>9999</th>\n",
       "      <td>2</td>\n",
       "      <td>299.0</td>\n",
       "      <td>308.7</td>\n",
       "      <td>1500</td>\n",
       "      <td>40.2</td>\n",
       "      <td>30</td>\n",
       "      <td>0</td>\n",
       "      <td>No Failure</td>\n",
       "    </tr>\n",
       "  </tbody>\n",
       "</table>\n",
       "</div>"
      ],
      "text/plain": [
       "      Type  Air temperature [K]  Process temperature [K]  \\\n",
       "9995     2                298.8                    308.4   \n",
       "9996     0                298.9                    308.4   \n",
       "9997     2                299.0                    308.6   \n",
       "9998     0                299.0                    308.7   \n",
       "9999     2                299.0                    308.7   \n",
       "\n",
       "      Rotational speed [rpm]  Torque [Nm]  Tool wear [min]  Target  \\\n",
       "9995                    1604         29.5               14       0   \n",
       "9996                    1632         31.8               17       0   \n",
       "9997                    1645         33.4               22       0   \n",
       "9998                    1408         48.5               25       0   \n",
       "9999                    1500         40.2               30       0   \n",
       "\n",
       "     Failure Type  \n",
       "9995   No Failure  \n",
       "9996   No Failure  \n",
       "9997   No Failure  \n",
       "9998   No Failure  \n",
       "9999   No Failure  "
      ]
     },
     "execution_count": 62,
     "metadata": {},
     "output_type": "execute_result"
    }
   ],
   "source": [
    "data.tail()"
   ]
  },
  {
   "cell_type": "code",
   "execution_count": 63,
   "id": "91aebaaa",
   "metadata": {
    "execution": {
     "iopub.execute_input": "2022-02-11T06:22:08.722987Z",
     "iopub.status.busy": "2022-02-11T06:22:08.722255Z",
     "iopub.status.idle": "2022-02-11T06:22:08.794528Z",
     "shell.execute_reply": "2022-02-11T06:22:08.793941Z",
     "shell.execute_reply.started": "2022-02-11T06:12:32.854293Z"
    },
    "papermill": {
     "duration": 0.167448,
     "end_time": "2022-02-11T06:22:08.794680",
     "exception": false,
     "start_time": "2022-02-11T06:22:08.627232",
     "status": "completed"
    },
    "tags": []
   },
   "outputs": [],
   "source": [
    "from sklearn.model_selection import train_test_split"
   ]
  },
  {
   "cell_type": "code",
   "execution_count": 64,
   "id": "9a7ca60e",
   "metadata": {
    "execution": {
     "iopub.execute_input": "2022-02-11T06:22:08.986273Z",
     "iopub.status.busy": "2022-02-11T06:22:08.984438Z",
     "iopub.status.idle": "2022-02-11T06:22:08.994586Z",
     "shell.execute_reply": "2022-02-11T06:22:08.993732Z",
     "shell.execute_reply.started": "2022-02-11T06:12:43.500160Z"
    },
    "papermill": {
     "duration": 0.109999,
     "end_time": "2022-02-11T06:22:08.994785",
     "exception": false,
     "start_time": "2022-02-11T06:22:08.884786",
     "status": "completed"
    },
    "tags": []
   },
   "outputs": [],
   "source": [
    "X_train, X_test, y_train, y_test = train_test_split(data.drop(['Failure Type','Target'],axis=1),\n",
    "                                                    data['Target'], test_size=0.3, random_state=42)"
   ]
  },
  {
   "cell_type": "code",
   "execution_count": 65,
   "id": "c260e459",
   "metadata": {},
   "outputs": [
    {
     "data": {
      "text/plain": [
       "0    6754\n",
       "1     246\n",
       "Name: Target, dtype: int64"
      ]
     },
     "execution_count": 65,
     "metadata": {},
     "output_type": "execute_result"
    }
   ],
   "source": [
    "y_train.value_counts()"
   ]
  },
  {
   "cell_type": "code",
   "execution_count": 66,
   "id": "712a2bc9",
   "metadata": {},
   "outputs": [],
   "source": [
    "from sklearn.ensemble import RandomForestClassifier"
   ]
  },
  {
   "cell_type": "code",
   "execution_count": 67,
   "id": "8f7c14a3",
   "metadata": {},
   "outputs": [],
   "source": [
    "model=RandomForestClassifier()"
   ]
  },
  {
   "cell_type": "code",
   "execution_count": 68,
   "id": "99f44285",
   "metadata": {},
   "outputs": [
    {
     "data": {
      "text/html": [
       "<style>#sk-container-id-2 {color: black;background-color: white;}#sk-container-id-2 pre{padding: 0;}#sk-container-id-2 div.sk-toggleable {background-color: white;}#sk-container-id-2 label.sk-toggleable__label {cursor: pointer;display: block;width: 100%;margin-bottom: 0;padding: 0.3em;box-sizing: border-box;text-align: center;}#sk-container-id-2 label.sk-toggleable__label-arrow:before {content: \"▸\";float: left;margin-right: 0.25em;color: #696969;}#sk-container-id-2 label.sk-toggleable__label-arrow:hover:before {color: black;}#sk-container-id-2 div.sk-estimator:hover label.sk-toggleable__label-arrow:before {color: black;}#sk-container-id-2 div.sk-toggleable__content {max-height: 0;max-width: 0;overflow: hidden;text-align: left;background-color: #f0f8ff;}#sk-container-id-2 div.sk-toggleable__content pre {margin: 0.2em;color: black;border-radius: 0.25em;background-color: #f0f8ff;}#sk-container-id-2 input.sk-toggleable__control:checked~div.sk-toggleable__content {max-height: 200px;max-width: 100%;overflow: auto;}#sk-container-id-2 input.sk-toggleable__control:checked~label.sk-toggleable__label-arrow:before {content: \"▾\";}#sk-container-id-2 div.sk-estimator input.sk-toggleable__control:checked~label.sk-toggleable__label {background-color: #d4ebff;}#sk-container-id-2 div.sk-label input.sk-toggleable__control:checked~label.sk-toggleable__label {background-color: #d4ebff;}#sk-container-id-2 input.sk-hidden--visually {border: 0;clip: rect(1px 1px 1px 1px);clip: rect(1px, 1px, 1px, 1px);height: 1px;margin: -1px;overflow: hidden;padding: 0;position: absolute;width: 1px;}#sk-container-id-2 div.sk-estimator {font-family: monospace;background-color: #f0f8ff;border: 1px dotted black;border-radius: 0.25em;box-sizing: border-box;margin-bottom: 0.5em;}#sk-container-id-2 div.sk-estimator:hover {background-color: #d4ebff;}#sk-container-id-2 div.sk-parallel-item::after {content: \"\";width: 100%;border-bottom: 1px solid gray;flex-grow: 1;}#sk-container-id-2 div.sk-label:hover label.sk-toggleable__label {background-color: #d4ebff;}#sk-container-id-2 div.sk-serial::before {content: \"\";position: absolute;border-left: 1px solid gray;box-sizing: border-box;top: 0;bottom: 0;left: 50%;z-index: 0;}#sk-container-id-2 div.sk-serial {display: flex;flex-direction: column;align-items: center;background-color: white;padding-right: 0.2em;padding-left: 0.2em;position: relative;}#sk-container-id-2 div.sk-item {position: relative;z-index: 1;}#sk-container-id-2 div.sk-parallel {display: flex;align-items: stretch;justify-content: center;background-color: white;position: relative;}#sk-container-id-2 div.sk-item::before, #sk-container-id-2 div.sk-parallel-item::before {content: \"\";position: absolute;border-left: 1px solid gray;box-sizing: border-box;top: 0;bottom: 0;left: 50%;z-index: -1;}#sk-container-id-2 div.sk-parallel-item {display: flex;flex-direction: column;z-index: 1;position: relative;background-color: white;}#sk-container-id-2 div.sk-parallel-item:first-child::after {align-self: flex-end;width: 50%;}#sk-container-id-2 div.sk-parallel-item:last-child::after {align-self: flex-start;width: 50%;}#sk-container-id-2 div.sk-parallel-item:only-child::after {width: 0;}#sk-container-id-2 div.sk-dashed-wrapped {border: 1px dashed gray;margin: 0 0.4em 0.5em 0.4em;box-sizing: border-box;padding-bottom: 0.4em;background-color: white;}#sk-container-id-2 div.sk-label label {font-family: monospace;font-weight: bold;display: inline-block;line-height: 1.2em;}#sk-container-id-2 div.sk-label-container {text-align: center;}#sk-container-id-2 div.sk-container {/* jupyter's `normalize.less` sets `[hidden] { display: none; }` but bootstrap.min.css set `[hidden] { display: none !important; }` so we also need the `!important` here to be able to override the default hidden behavior on the sphinx rendered scikit-learn.org. See: https://github.com/scikit-learn/scikit-learn/issues/21755 */display: inline-block !important;position: relative;}#sk-container-id-2 div.sk-text-repr-fallback {display: none;}</style><div id=\"sk-container-id-2\" class=\"sk-top-container\"><div class=\"sk-text-repr-fallback\"><pre>RandomForestClassifier()</pre><b>In a Jupyter environment, please rerun this cell to show the HTML representation or trust the notebook. <br />On GitHub, the HTML representation is unable to render, please try loading this page with nbviewer.org.</b></div><div class=\"sk-container\" hidden><div class=\"sk-item\"><div class=\"sk-estimator sk-toggleable\"><input class=\"sk-toggleable__control sk-hidden--visually\" id=\"sk-estimator-id-2\" type=\"checkbox\" checked><label for=\"sk-estimator-id-2\" class=\"sk-toggleable__label sk-toggleable__label-arrow\">RandomForestClassifier</label><div class=\"sk-toggleable__content\"><pre>RandomForestClassifier()</pre></div></div></div></div></div>"
      ],
      "text/plain": [
       "RandomForestClassifier()"
      ]
     },
     "execution_count": 68,
     "metadata": {},
     "output_type": "execute_result"
    }
   ],
   "source": [
    "model.fit(X_train,y_train)"
   ]
  },
  {
   "cell_type": "code",
   "execution_count": 69,
   "id": "8c0171e5",
   "metadata": {},
   "outputs": [
    {
     "data": {
      "text/plain": [
       "0.9856666666666667"
      ]
     },
     "execution_count": 69,
     "metadata": {},
     "output_type": "execute_result"
    }
   ],
   "source": [
    "model.score(X_test,y_test)"
   ]
  },
  {
   "cell_type": "code",
   "execution_count": 70,
   "id": "3d149e4f",
   "metadata": {},
   "outputs": [],
   "source": [
    "y_pred=model.predict(X_test)"
   ]
  },
  {
   "cell_type": "code",
   "execution_count": 71,
   "id": "25812055",
   "metadata": {},
   "outputs": [
    {
     "name": "stdout",
     "output_type": "stream",
     "text": [
      "              precision    recall  f1-score   support\n",
      "\n",
      "           0       0.99      1.00      0.99      2907\n",
      "           1       0.87      0.63      0.73        93\n",
      "\n",
      "    accuracy                           0.99      3000\n",
      "   macro avg       0.93      0.82      0.86      3000\n",
      "weighted avg       0.98      0.99      0.98      3000\n",
      "\n"
     ]
    }
   ],
   "source": [
    "from sklearn.metrics import classification_report,confusion_matrix\n",
    "t=classification_report(y_test,y_pred)\n",
    "print(t)"
   ]
  },
  {
   "cell_type": "code",
   "execution_count": 72,
   "id": "8d19c368",
   "metadata": {},
   "outputs": [],
   "source": [
    "f=confusion_matrix(y_test,y_pred)"
   ]
  },
  {
   "cell_type": "code",
   "execution_count": 73,
   "id": "9df05e23",
   "metadata": {},
   "outputs": [],
   "source": [
    "import matplotlib.pyplot as plt"
   ]
  },
  {
   "cell_type": "code",
   "execution_count": 74,
   "id": "9e548ced",
   "metadata": {},
   "outputs": [
    {
     "data": {
      "image/png": "[encoded data removed]",
      "text/plain": [
       "<Figure size 500x500 with 2 Axes>"
      ]
     },
     "metadata": {},
     "output_type": "display_data"
    }
   ],
   "source": [
    "import seaborn as sn\n",
    "plt.figure(figsize=(5,5))\n",
    "sn.heatmap(f,annot=True,fmt=\"d\")\n",
    "plt.ylabel(\"Y TRUE\")\n",
    "plt.xlabel(\"Y PREDICTED\")\n",
    "plt.show()"
   ]
  },
  {
   "cell_type": "code",
   "execution_count": 75,
   "id": "b51bd1e3",
   "metadata": {},
   "outputs": [
    {
     "data": {
      "text/html": [
       "<div>\n",
       "<style scoped>\n",
       "    .dataframe tbody tr th:only-of-type {\n",
       "        vertical-align: middle;\n",
       "    }\n",
       "\n",
       "    .dataframe tbody tr th {\n",
       "        vertical-align: top;\n",
       "    }\n",
       "\n",
       "    .dataframe thead th {\n",
       "        text-align: right;\n",
       "    }\n",
       "</style>\n",
       "<table border=\"1\" class=\"dataframe\">\n",
       "  <thead>\n",
       "    <tr style=\"text-align: right;\">\n",
       "      <th></th>\n",
       "      <th>Type</th>\n",
       "      <th>Air temperature [K]</th>\n",
       "      <th>Process temperature [K]</th>\n",
       "      <th>Rotational speed [rpm]</th>\n",
       "      <th>Torque [Nm]</th>\n",
       "      <th>Tool wear [min]</th>\n",
       "    </tr>\n",
       "  </thead>\n",
       "  <tbody>\n",
       "    <tr>\n",
       "      <th>9069</th>\n",
       "      <td>2</td>\n",
       "      <td>297.2</td>\n",
       "      <td>308.2</td>\n",
       "      <td>1678</td>\n",
       "      <td>28.1</td>\n",
       "      <td>133</td>\n",
       "    </tr>\n",
       "    <tr>\n",
       "      <th>2603</th>\n",
       "      <td>2</td>\n",
       "      <td>299.3</td>\n",
       "      <td>309.2</td>\n",
       "      <td>1334</td>\n",
       "      <td>46.3</td>\n",
       "      <td>31</td>\n",
       "    </tr>\n",
       "    <tr>\n",
       "      <th>7738</th>\n",
       "      <td>2</td>\n",
       "      <td>300.5</td>\n",
       "      <td>312.0</td>\n",
       "      <td>1263</td>\n",
       "      <td>60.8</td>\n",
       "      <td>146</td>\n",
       "    </tr>\n",
       "    <tr>\n",
       "      <th>1579</th>\n",
       "      <td>1</td>\n",
       "      <td>298.3</td>\n",
       "      <td>308.3</td>\n",
       "      <td>1444</td>\n",
       "      <td>43.8</td>\n",
       "      <td>176</td>\n",
       "    </tr>\n",
       "    <tr>\n",
       "      <th>5058</th>\n",
       "      <td>1</td>\n",
       "      <td>303.9</td>\n",
       "      <td>312.9</td>\n",
       "      <td>1526</td>\n",
       "      <td>42.5</td>\n",
       "      <td>194</td>\n",
       "    </tr>\n",
       "    <tr>\n",
       "      <th>...</th>\n",
       "      <td>...</td>\n",
       "      <td>...</td>\n",
       "      <td>...</td>\n",
       "      <td>...</td>\n",
       "      <td>...</td>\n",
       "      <td>...</td>\n",
       "    </tr>\n",
       "    <tr>\n",
       "      <th>5734</th>\n",
       "      <td>1</td>\n",
       "      <td>302.3</td>\n",
       "      <td>311.8</td>\n",
       "      <td>1369</td>\n",
       "      <td>56.2</td>\n",
       "      <td>208</td>\n",
       "    </tr>\n",
       "    <tr>\n",
       "      <th>5191</th>\n",
       "      <td>1</td>\n",
       "      <td>304.0</td>\n",
       "      <td>313.2</td>\n",
       "      <td>1416</td>\n",
       "      <td>46.0</td>\n",
       "      <td>128</td>\n",
       "    </tr>\n",
       "    <tr>\n",
       "      <th>5390</th>\n",
       "      <td>0</td>\n",
       "      <td>302.8</td>\n",
       "      <td>312.3</td>\n",
       "      <td>1483</td>\n",
       "      <td>47.2</td>\n",
       "      <td>223</td>\n",
       "    </tr>\n",
       "    <tr>\n",
       "      <th>860</th>\n",
       "      <td>0</td>\n",
       "      <td>296.1</td>\n",
       "      <td>306.9</td>\n",
       "      <td>1541</td>\n",
       "      <td>32.6</td>\n",
       "      <td>33</td>\n",
       "    </tr>\n",
       "    <tr>\n",
       "      <th>7270</th>\n",
       "      <td>1</td>\n",
       "      <td>300.2</td>\n",
       "      <td>310.4</td>\n",
       "      <td>1808</td>\n",
       "      <td>25.8</td>\n",
       "      <td>35</td>\n",
       "    </tr>\n",
       "  </tbody>\n",
       "</table>\n",
       "<p>7000 rows × 6 columns</p>\n",
       "</div>"
      ],
      "text/plain": [
       "      Type  Air temperature [K]  Process temperature [K]  \\\n",
       "9069     2                297.2                    308.2   \n",
       "2603     2                299.3                    309.2   \n",
       "7738     2                300.5                    312.0   \n",
       "1579     1                298.3                    308.3   \n",
       "5058     1                303.9                    312.9   \n",
       "...    ...                  ...                      ...   \n",
       "5734     1                302.3                    311.8   \n",
       "5191     1                304.0                    313.2   \n",
       "5390     0                302.8                    312.3   \n",
       "860      0                296.1                    306.9   \n",
       "7270     1                300.2                    310.4   \n",
       "\n",
       "      Rotational speed [rpm]  Torque [Nm]  Tool wear [min]  \n",
       "9069                    1678         28.1              133  \n",
       "2603                    1334         46.3               31  \n",
       "7738                    1263         60.8              146  \n",
       "1579                    1444         43.8              176  \n",
       "5058                    1526         42.5              194  \n",
       "...                      ...          ...              ...  \n",
       "5734                    1369         56.2              208  \n",
       "5191                    1416         46.0              128  \n",
       "5390                    1483         47.2              223  \n",
       "860                     1541         32.6               33  \n",
       "7270                    1808         25.8               35  \n",
       "\n",
       "[7000 rows x 6 columns]"
      ]
     },
     "execution_count": 75,
     "metadata": {},
     "output_type": "execute_result"
    }
   ],
   "source": [
    "X_train"
   ]
  },
  {
   "cell_type": "code",
   "execution_count": 76,
   "id": "e68f4c4f",
   "metadata": {},
   "outputs": [
    {
     "name": "stderr",
     "output_type": "stream",
     "text": [
      "C:\\Users\\lenin\\AppData\\Local\\Programs\\Python\\Python311\\Lib\\site-packages\\sklearn\\base.py:439: UserWarning: X does not have valid feature names, but RandomForestClassifier was fitted with feature names\n",
      "  warnings.warn(\n"
     ]
    }
   ],
   "source": [
    "r=model.predict([[2,297.2,308.2,3678,8.1,133]])"
   ]
  },
  {
   "cell_type": "code",
   "execution_count": 77,
   "id": "0560815f",
   "metadata": {},
   "outputs": [
    {
     "data": {
      "text/plain": [
       "numpy.int64"
      ]
     },
     "execution_count": 77,
     "metadata": {},
     "output_type": "execute_result"
    }
   ],
   "source": [
    "type(r[0])"
   ]
  },
  {
   "cell_type": "code",
   "execution_count": 41,
   "id": "972fce2a",
   "metadata": {},
   "outputs": [],
   "source": [
    "import pickle"
   ]
  },
  {
   "cell_type": "code",
   "execution_count": 42,
   "id": "0c51d66d",
   "metadata": {},
   "outputs": [],
   "source": [
    "with open(\"maint.pickle4\",\"wb\") as sp:\n",
    "    pickle.dump(model,sp)"
   ]
  },
  {
   "cell_type": "code",
   "execution_count": null,
   "id": "ddb06e28",
   "metadata": {},
   "outputs": [],
   "source": []
  }
 ],
 "metadata": {
  "kernelspec": {
   "display_name": "Python 3 (ipykernel)",
   "language": "python",
   "name": "python3"
  },
  "language_info": {
   "codemirror_mode": {
    "name": "ipython",
    "version": 3
   },
   "file_extension": ".py",
   "mimetype": "text/x-python",
   "name": "python",
   "nbconvert_exporter": "python",
   "pygments_lexer": "ipython3",
   "version": "3.11.3"
  },
  "papermill": {
   "default_parameters": {},
   "duration": 70.184133,
   "end_time": "2022-02-11T06:22:21.636979",
   "environment_variables": {},
   "exception": null,
   "input_path": "__notebook__.ipynb",
   "output_path": "__notebook__.ipynb",
   "parameters": {},
   "start_time": "2022-02-11T06:21:11.452846",
   "version": "2.3.3"
  }
 },
 "nbformat": 4,
 "nbformat_minor": 5
}
